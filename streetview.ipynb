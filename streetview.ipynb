{
 "cells": [
  {
   "cell_type": "code",
   "execution_count": 1,
   "id": "eb519343",
   "metadata": {},
   "outputs": [
    {
     "name": "stderr",
     "output_type": "stream",
     "text": [
      "C:\\Users\\HIT\\AppData\\Local\\Temp\\ipykernel_76708\\2670195135.py:30: DeprecationWarning: The 'unary_union' attribute is deprecated, use the 'union_all()' method instead.\n",
      "  poly = gpd.read_file(shp_path).unary_union\n",
      "grid: 100%|██████████| 112000/112000 [8:04:41<00:00,  3.85it/s]   "
     ]
    },
    {
     "name": "stdout",
     "output_type": "stream",
     "text": [
      "✅ 找到 153 个 pano\n",
      "[✓] CSV 保存至 D:\\tree4heatland\\model\\streetview-dl-main\\pano_metadata2.csv\n"
     ]
    },
    {
     "name": "stderr",
     "output_type": "stream",
     "text": [
      "\n"
     ]
    }
   ],
   "source": [
    "\"\"\"\n",
    "等间距（默认 15 m）采样多边形，用 streetview.find_panorama()\n",
    "把 Google Street View 全景点补齐，输出 id/lat/lon/date 到 CSV\n",
    "\"\"\"\n",
    "import math, csv, time\n",
    "from pathlib import Path\n",
    "\n",
    "import geopandas as gpd\n",
    "from shapely.geometry import Point\n",
    "from tqdm import tqdm\n",
    "from streetlevel import streetview\n",
    "\n",
    "# ---------- 参数 ----------\n",
    "shp_path        = r\"test/test.shp\"          # ← 你的多边形 Shapefile\n",
    "step_m          = 1                        # 采样网格步长\n",
    "search_radius_m = 15                        # find_panorama 搜索半径\n",
    "max_retry       = 3\n",
    "out_csv         = Path(r\"D:\\tree4heatland\\model\\streetview-dl-main\\pano_metadata2.csv\")\n",
    "\n",
    "# ---------- 日期格式化 ----------\n",
    "def capturedate_to_str(cd):\n",
    "    \"\"\"CaptureDate → 'YYYY-MM' 或 'YYYY-MM-DD' 字符串\"\"\"\n",
    "    if not cd:\n",
    "        return \"\"\n",
    "    y, m = cd.year, cd.month\n",
    "    d = getattr(cd, \"day\", None)\n",
    "    return f\"{y}-{m:02d}-{d:02d}\" if d else f\"{y}-{m:02d}\"\n",
    "\n",
    "# ---------- 1. 读多边形并转米制 ----------\n",
    "poly = gpd.read_file(shp_path).unary_union\n",
    "poly_m = gpd.GeoSeries([poly], crs=4326).to_crs(3857).iloc[0]\n",
    "minx, miny, maxx, maxy = poly_m.bounds\n",
    "\n",
    "# ---------- 2. 生成点阵 ----------\n",
    "xs = list(range(int(minx), int(maxx) + 1, step_m))\n",
    "ys = list(range(int(miny), int(maxy) + 1, step_m))\n",
    "\n",
    "# ---------- 3. find_panorama 扫描 ----------\n",
    "meta = {}           # pano_id -> dict\n",
    "total_pts = len(xs) * len(ys)\n",
    "pbar = tqdm(total=total_pts, desc=\"grid\")\n",
    "\n",
    "for x in xs:\n",
    "    for y in ys:\n",
    "        pbar.update()\n",
    "        pt = Point(x, y)\n",
    "        if not poly_m.contains(pt):\n",
    "            continue\n",
    "\n",
    "        # 投回 WGS84\n",
    "        lon, lat = (\n",
    "            gpd.GeoSeries([pt], crs=3857).to_crs(4326).iloc[0].coords[0]\n",
    "        )\n",
    "\n",
    "        pano = None\n",
    "        for _ in range(max_retry):\n",
    "            try:\n",
    "                pano = streetview.find_panorama(\n",
    "                    lat=lat,\n",
    "                    lon=lon,\n",
    "                    radius=search_radius_m,\n",
    "                    session=None,             # 默认 requests\n",
    "                    search_third_party=False  # 如需第三方设 True\n",
    "                )\n",
    "                break\n",
    "            except Exception:\n",
    "                time.sleep(0.3)\n",
    "\n",
    "        if pano and pano.id not in meta:\n",
    "            meta[pano.id] = {\n",
    "                \"lat\": pano.lat,\n",
    "                \"lon\": pano.lon,\n",
    "                \"date\": capturedate_to_str(pano.date)\n",
    "            }\n",
    "\n",
    "pbar.close()\n",
    "print(f\"✅ 找到 {len(meta)} 个 pano\")\n",
    "\n",
    "# ---------- 4. 写 CSV ----------\n",
    "out_csv.parent.mkdir(parents=True, exist_ok=True)\n",
    "with out_csv.open(\"w\", newline=\"\", encoding=\"utf-8\") as f:\n",
    "    w = csv.DictWriter(f, fieldnames=[\"id\", \"lat\", \"lon\", \"date\"])\n",
    "    w.writeheader()\n",
    "    for pid, row in meta.items():\n",
    "        w.writerow({\"id\": pid, **row})\n",
    "\n",
    "print(f\"[✓] CSV 保存至 {out_csv}\")\n"
   ]
  }
 ],
 "metadata": {
  "kernelspec": {
   "display_name": "moge",
   "language": "python",
   "name": "python3"
  },
  "language_info": {
   "codemirror_mode": {
    "name": "ipython",
    "version": 3
   },
   "file_extension": ".py",
   "mimetype": "text/x-python",
   "name": "python",
   "nbconvert_exporter": "python",
   "pygments_lexer": "ipython3",
   "version": "3.10.18"
  }
 },
 "nbformat": 4,
 "nbformat_minor": 5
}
