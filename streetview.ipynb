{
 "cells": [
  {
   "cell_type": "code",
   "execution_count": 7,
   "id": "53c08a14",
   "metadata": {},
   "outputs": [
    {
     "name": "stdout",
     "output_type": "stream",
     "text": [
      "3yVCHQze4Glc1iTNVcMnUA\n",
      "-37.81242916985612 144.9651631896737\n",
      "2022-05\n"
     ]
    }
   ],
   "source": [
    "from streetlevel import streetview\n",
    "\n",
    "pano = streetview.find_panorama(-37.81246, 144.96514,radius =50)\n",
    "print(pano.id)\n",
    "print(pano.lat, pano.lon)\n",
    "print(pano.date)"
   ]
  },
  {
   "cell_type": "code",
   "execution_count": 11,
   "id": "52e550a2",
   "metadata": {},
   "outputs": [
    {
     "name": "stderr",
     "output_type": "stream",
     "text": [
      "/tmp/ipykernel_2386/992774747.py:38: DeprecationWarning: The 'unary_union' attribute is deprecated, use the 'union_all()' method instead.\n",
      "  boundary = gdf.geometry.unary_union\n"
     ]
    },
    {
     "name": "stdout",
     "output_type": "stream",
     "text": [
      "Tile X range: 118315…118316, Y range: 80426…80427\n"
     ]
    },
    {
     "name": "stderr",
     "output_type": "stream",
     "text": [
      "Tiles X: 100%|██████████| 2/2 [00:03<00:00,  1.72s/it]"
     ]
    },
    {
     "name": "stdout",
     "output_type": "stream",
     "text": [
      "✅ Found 590 unique pano IDs\n",
      "[✓] Download script saved: download_sv.sh\n"
     ]
    },
    {
     "name": "stderr",
     "output_type": "stream",
     "text": [
      "\n"
     ]
    }
   ],
   "source": [
    "import math\n",
    "from pathlib import Path\n",
    "\n",
    "import geopandas as gpd\n",
    "from shapely.geometry import box\n",
    "from tqdm import tqdm\n",
    "from streetlevel import streetview\n",
    "\n",
    "# ==== 配置区 ====\n",
    "shapefile_path = \"test/test.shp\"   # ← 替换为你的 Shapefile 路径\n",
    "zoom = 17                          # Slippy Tile zoom level（约150m×150m 网格）\n",
    "output_sh  = \"download_sv.sh\"      # 生成的 Bash 脚本\n",
    "\n",
    "# ==== 工具函数 ====\n",
    "def deg2tile(lat_deg: float, lon_deg: float, zoom: int):\n",
    "    lat_rad = math.radians(lat_deg)\n",
    "    n = 2.0 ** zoom\n",
    "    xtile = int((lon_deg + 180.0) / 360.0 * n)\n",
    "    ytile = int(\n",
    "        (1.0 - math.log(math.tan(lat_rad) + 1.0 / math.cos(lat_rad)) / math.pi) / 2.0 * n\n",
    "    )\n",
    "    return xtile, ytile\n",
    "\n",
    "def tile2deg(x: int, y: int, zoom: int):\n",
    "    n = 2.0 ** zoom\n",
    "    lon_deg = x / n * 360.0 - 180.0\n",
    "    lat_rad = math.atan(math.sinh(math.pi * (1 - 2 * y / n)))\n",
    "    return math.degrees(lat_rad), lon_deg\n",
    "\n",
    "def tile_bounds(x: int, y: int, zoom: int):\n",
    "    lat1, lon1 = tile2deg(x, y, zoom)\n",
    "    lat2, lon2 = tile2deg(x + 1, y + 1, zoom)\n",
    "    return box(lon1, lat2, lon2, lat1)\n",
    "\n",
    "# ==== 1. 读取并合并边界面 ====\n",
    "gdf = gpd.read_file(shapefile_path)\n",
    "gdf = gdf.to_crs(\"EPSG:4326\")\n",
    "boundary = gdf.geometry.unary_union\n",
    "\n",
    "# ==== 2. 计算需遍历的 Tile 范围 ====\n",
    "minx, miny, maxx, maxy = boundary.bounds\n",
    "x_min, y_max = deg2tile(miny, minx, zoom)\n",
    "x_max, y_min = deg2tile(maxy, maxx, zoom)\n",
    "print(f\"Tile X range: {x_min}…{x_max}, Y range: {y_min}…{y_max}\")\n",
    "\n",
    "# ==== 3. 遍历所有 Tile，收集 pano_id ====\n",
    "pano_ids = set()\n",
    "for x in tqdm(range(x_min, x_max + 1), desc=\"Tiles X\"):\n",
    "    for y in range(y_min, y_max + 1):\n",
    "        tb = tile_bounds(x, y, zoom)\n",
    "        if not boundary.intersects(tb):\n",
    "            continue\n",
    "        try:\n",
    "            panos = streetview.get_coverage_tile(x, y)\n",
    "        except Exception as e:\n",
    "            print(f\"[Warning] tile ({x},{y}) failed: {e}\")\n",
    "            continue\n",
    "        for p in panos:\n",
    "            pano_ids.add(p.id)\n",
    "\n",
    "print(f\"✅ Found {len(pano_ids)} unique pano IDs\")\n",
    "\n",
    "# ==== 4. 生成下载脚本 (.sh) ====\n",
    "panos_sorted = sorted(pano_ids)\n",
    "total = len(panos_sorted)\n",
    "\n",
    "with open(output_sh, \"w\", encoding=\"utf-8\") as f:\n",
    "    f.write(\"#!/usr/bin/env bash\\n\\n\")\n",
    "    # 允许使用者通过 $1 传入导出目录，默认 panoramas\n",
    "    f.write('out_dir=\"${1:-panoramas}\"\\n')\n",
    "    f.write('mkdir -p \"$out_dir\"\\n')\n",
    "    f.write('echo \"Export directory: $out_dir\"\\n\\n')\n",
    "    f.write(f\"total={total}\\n\")\n",
    "    f.write('echo \"Total panoramas to download: $total\"\\n')\n",
    "    f.write(\"i=1\\n\\n\")\n",
    "    f.write(\"for pano in \\\\\\n\")\n",
    "    # 每行一个 pano_id，末尾续行\n",
    "    for pid in panos_sorted[:-1]:\n",
    "        f.write(f\"  {pid} \\\\\\n\")\n",
    "    f.write(f\"  {panos_sorted[-1]}; do\\n\")\n",
    "    f.write('  printf \"[%d/%d] Downloading pano ID: %s\\\\n\" \"$i\" \"$total\" \"$pano\"\\n')\n",
    "    f.write('  php ./streeview-dl.php \"$pano\"\\n')\n",
    "    # 下载完后，移动对应的三种文件到目标目录\n",
    "    f.write('  mv stl-\"$pano\"*.jpg stm-\"$pano\"*.jpg sts-\"$pano\"*.jpg \"$out_dir\"/\\n')\n",
    "    f.write(\"  ((i++))\\n\")\n",
    "    f.write(\"done\\n\")\n",
    "\n",
    "# 设置脚本可执行权限（Unix 平台）\n",
    "Path(output_sh).chmod(0o755)\n",
    "\n",
    "print(f\"[✓] Download script saved: {output_sh}\")\n"
   ]
  }
 ],
 "metadata": {
  "kernelspec": {
   "display_name": "deepsdf",
   "language": "python",
   "name": "python3"
  },
  "language_info": {
   "codemirror_mode": {
    "name": "ipython",
    "version": 3
   },
   "file_extension": ".py",
   "mimetype": "text/x-python",
   "name": "python",
   "nbconvert_exporter": "python",
   "pygments_lexer": "ipython3",
   "version": "3.10.9"
  }
 },
 "nbformat": 4,
 "nbformat_minor": 5
}
